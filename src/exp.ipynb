{
 "cells": [
  {
   "cell_type": "code",
   "execution_count": 14,
   "metadata": {},
   "outputs": [],
   "source": [
    "# Funcion para correr .cpp\n",
    "\n",
    "JACOBI_SUM = \"../src/jacobi_sum\"\n",
    "JACOBI_MAT = \"../src/jacobi_mat\"\n",
    "GS_SUM = \"../src/gs_sum\"\n",
    "GS_MAT = \"../src/gs_mat\"\n",
    "\n",
    "ENTRADA = \"entrada.txt\"\n",
    "\n",
    "def run_jacobi_sum(iter): \n",
    "    !{TP} {iter}\n",
    "\n",
    "def run_jacobi_mat(iter): \n",
    "    !{TP} {iter}\n",
    "\n",
    "def run_gs_sum(iter): \n",
    "    !{TP} {iter}\n",
    "\n",
    "def run_gs_mat(iter): \n",
    "    !{TP} {iter}"
   ]
  },
  {
   "cell_type": "code",
   "execution_count": 20,
   "metadata": {},
   "outputs": [
    {
     "name": "stdout",
     "output_type": "stream",
     "text": [
      "2\n"
     ]
    }
   ],
   "source": [
    "#run_jacobi_sum(50)\n",
    "#run_jacobi_mat(50)\n",
    "#run_gs_sum(50)\n",
    "run_gs_mat(50)"
   ]
  },
  {
   "cell_type": "code",
   "execution_count": null,
   "metadata": {},
   "outputs": [],
   "source": []
  }
 ],
 "metadata": {
  "kernelspec": {
   "display_name": "Python 3",
   "language": "python",
   "name": "python3"
  },
  "language_info": {
   "codemirror_mode": {
    "name": "ipython",
    "version": 3
   },
   "file_extension": ".py",
   "mimetype": "text/x-python",
   "name": "python",
   "nbconvert_exporter": "python",
   "pygments_lexer": "ipython3",
   "version": "3.8.10"
  },
  "orig_nbformat": 4
 },
 "nbformat": 4,
 "nbformat_minor": 2
}
